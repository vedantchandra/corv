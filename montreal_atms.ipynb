{
 "cells": [
  {
   "cell_type": "code",
   "execution_count": null,
   "id": "144fca57-39ce-43d9-ba78-acc44685f8c5",
   "metadata": {
    "tags": []
   },
   "outputs": [
    {
     "name": "stdout",
     "output_type": "stream",
     "text": [
      "building montreal da model\n",
      "/Users/vedantchandra/0_research/01_sdss5/006_build_corv/data/comm_cat/\n",
      "star and exposure catalogs not found! check paths and run make_catalogs() if you want to use sdss functionality. otherwise ignore.\n"
     ]
    },
    {
     "name": "stderr",
     "output_type": "stream",
     "text": [
      "/home/arseneau/anaconda3/lib/python3.9/site-packages/corv-0.1-py3.9.egg/corv/utils.py:410: VisibleDeprecationWarning: Creating an ndarray from ragged nested sequences (which is a list-or-tuple of lists-or-tuples-or ndarrays with different lengths or shapes) is deprecated. If you meant to do this, you must specify 'dtype=object' when creating the ndarray.\n",
      "  table['logg'] = np.array(dat).T[0]\n",
      "/home/arseneau/anaconda3/lib/python3.9/site-packages/corv-0.1-py3.9.egg/corv/utils.py:411: VisibleDeprecationWarning: Creating an ndarray from ragged nested sequences (which is a list-or-tuple of lists-or-tuples-or ndarrays with different lengths or shapes) is deprecated. If you meant to do this, you must specify 'dtype=object' when creating the ndarray.\n",
      "  table['teff'] = np.array(dat).T[1]\n",
      "/home/arseneau/anaconda3/lib/python3.9/site-packages/corv-0.1-py3.9.egg/corv/utils.py:412: VisibleDeprecationWarning: Creating an ndarray from ragged nested sequences (which is a list-or-tuple of lists-or-tuples-or ndarrays with different lengths or shapes) is deprecated. If you meant to do this, you must specify 'dtype=object' when creating the ndarray.\n",
      "  table['y'] = np.array(dat).T[2]\n",
      "/home/arseneau/anaconda3/lib/python3.9/site-packages/corv-0.1-py3.9.egg/corv/utils.py:413: VisibleDeprecationWarning: Creating an ndarray from ragged nested sequences (which is a list-or-tuple of lists-or-tuples-or ndarrays with different lengths or shapes) is deprecated. If you meant to do this, you must specify 'dtype=object' when creating the ndarray.\n",
      "  table['fl'] = [continuum_normalize(base_wavl, np.array(dat).T[3][i]) for i in tqdm(range(len(np.array(dat).T[3])))]\n",
      " 39%|███████████████████████████████▌                                                | 418/1060 [00:52<01:20,  7.96it/s]"
     ]
    }
   ],
   "source": [
    "import corv\n",
    "import matplotlib.pyplot as plt\n",
    "\n",
    "base_wavl_da, model_spec_da, tab = corv.utils.build_montreal_da('models/grid_ELM')\n",
    "base_wavl_db, model_spec_db = corv.utils.build_montreal_db('models/models')"
   ]
  },
  {
   "cell_type": "code",
   "execution_count": null,
   "id": "52827eba-295a-4aa4-8af2-71ca63d2cc2f",
   "metadata": {
    "tags": []
   },
   "outputs": [],
   "source": [
    "mask_da = (3500 < base_wavl_da) * (base_wavl_da < 10000)\n",
    "mask_db = (3500 < base_wavl_db) * (base_wavl_db < 10000)\n",
    "\n",
    "plt.plot(base_wavl_da[mask_da], model_spec_da((10000, 8))[mask_da])\n",
    "#plt.plot(base_wavl_db[mask_db], model_spec_db((35000, 8, 1e30))[mask_db])"
   ]
  },
  {
   "cell_type": "code",
   "execution_count": null,
   "id": "00957a2e-13bf-4e6b-bacc-b7088fcefbc6",
   "metadata": {},
   "outputs": [],
   "source": [
    "import pickle\n",
    "\n",
    "with open('src/corv/models/montreal_da.pkl', 'wb') as f:\n",
    "    pickle.dump(model_spec_da, f)"
   ]
  },
  {
   "cell_type": "code",
   "execution_count": null,
   "id": "029458ae-6cd0-4d32-a5fc-b3fd2b1e3a75",
   "metadata": {
    "tags": []
   },
   "outputs": [],
   "source": [
    "import pickle\n",
    "import numpy as np\n",
    "import matplotlib.pyplot as plt\n",
    "\n",
    "with open('../models/koester_interp_da.pkl', 'rb') as f:\n",
    "    thing = pickle.load(f)"
   ]
  },
  {
   "cell_type": "code",
   "execution_count": null,
   "id": "c53ac2f3-be49-445b-b7d5-2cbb5d3b0227",
   "metadata": {
    "tags": []
   },
   "outputs": [],
   "source": [
    "wl = np.linspace(3000, 9000, 500)\n",
    "fl = thing((8, np.log10(15000), np.log10(wl)))\n",
    "\n",
    "plt.plot(wl, fl)"
   ]
  },
  {
   "cell_type": "code",
   "execution_count": null,
   "id": "6e4aa80f-a9ce-4114-8816-1f7efe369562",
   "metadata": {
    "tags": []
   },
   "outputs": [],
   "source": []
  },
  {
   "cell_type": "code",
   "execution_count": null,
   "id": "ebedeb8d-8c90-47ae-b86c-10943ce1f2b2",
   "metadata": {},
   "outputs": [],
   "source": []
  },
  {
   "cell_type": "code",
   "execution_count": null,
   "id": "8635df84-0e14-4039-ac13-264682da9fef",
   "metadata": {},
   "outputs": [],
   "source": []
  }
 ],
 "metadata": {
  "kernelspec": {
   "display_name": "Python 3 (ipykernel)",
   "language": "python",
   "name": "python3"
  },
  "language_info": {
   "codemirror_mode": {
    "name": "ipython",
    "version": 3
   },
   "file_extension": ".py",
   "mimetype": "text/x-python",
   "name": "python",
   "nbconvert_exporter": "python",
   "pygments_lexer": "ipython3",
   "version": "3.9.13"
  }
 },
 "nbformat": 4,
 "nbformat_minor": 5
}
